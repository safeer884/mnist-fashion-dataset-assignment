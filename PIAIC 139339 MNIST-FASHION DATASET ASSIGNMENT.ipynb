{
 "cells": [
  {
   "cell_type": "markdown",
   "metadata": {
    "id": "g1yx6XVeLC5n"
   },
   "source": []
  },
  {
   "cell_type": "markdown",
   "metadata": {
    "id": "Dzpw7QQWLhL_"
   },
   "source": [
    "**MNIST-FASHION DATASET**"
   ]
  },
  {
   "cell_type": "code",
   "execution_count": 9,
   "metadata": {
    "id": "MjTydzfYLqSV"
   },
   "outputs": [],
   "source": [
    "#IMPORT MNIST-FASHION DATASET\n",
    "from tensorflow.keras.datasets import fashion_mnist\n",
    "(a_images, a_labels), (b_images, b_labels)=fashion_mnist.load_data()"
   ]
  },
  {
   "cell_type": "code",
   "execution_count": 16,
   "metadata": {
    "colab": {
     "base_uri": "https://localhost:8080/"
    },
    "id": "Fv4gmldMLsyw",
    "outputId": "80b9df7c-d5b3-4bab-989d-0f8334f3c786"
   },
   "outputs": [
    {
     "name": "stdout",
     "output_type": "stream",
     "text": [
      "60000\n",
      "60000\n",
      "10000\n",
      "10000\n"
     ]
    }
   ],
   "source": [
    "#FIND THE LENGHT\n",
    "print(len(a_images))\n",
    "print(len(a_labels))\n",
    "print(len(b_images))\n",
    "print(len(b_labels))"
   ]
  },
  {
   "cell_type": "code",
   "execution_count": 19,
   "metadata": {
    "colab": {
     "base_uri": "https://localhost:8080/"
    },
    "id": "bCXN6cCwMMRF",
    "outputId": "e735c854-9dce-45c1-c49e-d65f5857c18a"
   },
   "outputs": [
    {
     "name": "stdout",
     "output_type": "stream",
     "text": [
      "(60000, 28, 28)\n",
      "(60000,)\n",
      "(10000, 28, 28)\n",
      "(10000,)\n"
     ]
    }
   ],
   "source": [
    "#FIND THE SHAPE\n",
    "print(a_images.shape)\n",
    "print(a_labels.shape)\n",
    "print(b_images.shape)\n",
    "print(b_labels.shape)"
   ]
  },
  {
   "cell_type": "code",
   "execution_count": 20,
   "metadata": {
    "id": "3WqflLzsNBoP"
   },
   "outputs": [],
   "source": [
    "products_names = ['T-shirt/top', 'Trouser', 'Pullover', 'Dress', 'Coat', 'Sandal', 'Shirt', 'Sneaker', 'Bag', 'Ankle boot']"
   ]
  },
  {
   "cell_type": "code",
   "execution_count": 24,
   "metadata": {
    "colab": {
     "base_uri": "https://localhost:8080/",
     "height": 282
    },
    "id": "StAzDe_4N3LO",
    "outputId": "9208243c-24d3-4fc8-e9a1-8039321a150f"
   },
   "outputs": [
    {
     "name": "stdout",
     "output_type": "stream",
     "text": [
      "Class Label: Ankle boot\n"
     ]
    },
    {
     "data": {
      "image/png": "[encoded data removed]",
      "text/plain": [
       "<Figure size 432x288 with 1 Axes>"
      ]
     },
     "metadata": {
      "needs_background": "light",
      "tags": []
     },
     "output_type": "display_data"
    }
   ],
   "source": [
    "import matplotlib.pyplot as plt\n",
    "num = 15\n",
    "item=a_labels[num]\n",
    "print(\"Class Label:\", products_names[item])\n",
    "plt.imshow(a_images[num], cmap=plt.cm.binary)\n",
    "plt.show()"
   ]
  },
  {
   "cell_type": "code",
   "execution_count": 32,
   "metadata": {
    "colab": {
     "base_uri": "https://localhost:8080/"
    },
    "id": "xiChBZ6ROeqw",
    "outputId": "840fe601-b762-4e14-8b58-50c283c786b7"
   },
   "outputs": [
    {
     "name": "stdout",
     "output_type": "stream",
     "text": [
      "[9 0 0 ... 3 0 5]\n",
      "[0 1 2 3 4 5 6 7 8 9]\n",
      "[9 2 1 ... 8 1 5]\n",
      "[0 1 2 3 4 5 6 7 8 9]\n"
     ]
    }
   ],
   "source": [
    "import numpy as np\n",
    "print(a_labels)\n",
    "print(np.unique(a_labels))\n",
    "print(b_labels)\n",
    "print(np.unique(b_labels))"
   ]
  },
  {
   "cell_type": "markdown",
   "metadata": {
    "id": "ZyjAxmlIPDhZ"
   },
   "source": [
    "**Creating the Netwrok Architecture**"
   ]
  },
  {
   "cell_type": "code",
   "execution_count": 46,
   "metadata": {
    "id": "AuYJV2CRPGWH"
   },
   "outputs": [],
   "source": [
    "from tensorflow.keras import models\n",
    "from tensorflow.keras import layers\n",
    "\n",
    "network = models.Sequential()\n",
    "\n",
    "network.add(layers.Dense(512, activation='relu', input_shape=(28*28,)))\n",
    "network.add(layers.Dense(10, activation=\"softmax\"))"
   ]
  },
  {
   "cell_type": "code",
   "execution_count": 45,
   "metadata": {
    "id": "BWsfg5qrRQY2"
   },
   "outputs": [],
   "source": [
    "#COMPILATION STEP:\n",
    "network.compile(optimizer=\"rmsprop\", loss=\"categorical_crossentropy\", metrics=[\"accuracy\"])"
   ]
  },
  {
   "cell_type": "code",
   "execution_count": 42,
   "metadata": {
    "id": "Lby_B1fiRWz-"
   },
   "outputs": [],
   "source": [
    "#PREPARING THE IMAGE DATA:\n",
    "a_images=a_images.reshape((60000, 28*28))\n",
    "a_images=a_images.astype(\"float32\")/255\n",
    "\n",
    "b_images=b_images.reshape((10000, 28*28))\n",
    "b_images=b_images.astype(\"float32\")/255"
   ]
  },
  {
   "cell_type": "code",
   "execution_count": 43,
   "metadata": {
    "colab": {
     "base_uri": "https://localhost:8080/"
    },
    "id": "DhdnpbvHRZ9h",
    "outputId": "f0b7d34e-7535-408e-9824-cf4518732695"
   },
   "outputs": [
    {
     "data": {
      "text/plain": [
       "array([[1., 0.],\n",
       "       [1., 0.],\n",
       "       [1., 0.],\n",
       "       [1., 0.],\n",
       "       [1., 0.],\n",
       "       [1., 0.],\n",
       "       [1., 0.],\n",
       "       [1., 0.],\n",
       "       [1., 0.],\n",
       "       [0., 1.]], dtype=float32)"
      ]
     },
     "execution_count": 43,
     "metadata": {
      "tags": []
     },
     "output_type": "execute_result"
    }
   ],
   "source": [
    "#PREPARING LABELS:\n",
    "a_labels[0]"
   ]
  },
  {
   "cell_type": "code",
   "execution_count": 44,
   "metadata": {
    "id": "uoJBadbWRcMX"
   },
   "outputs": [],
   "source": [
    "#ONE-HOT-ENCODE\n",
    "\n",
    "from tensorflow.keras.utils import to_categorical\n",
    "a_labels = to_categorical(a_labels)\n",
    "b_labels = to_categorical(b_labels)"
   ]
  },
  {
   "cell_type": "code",
   "execution_count": 35,
   "metadata": {
    "colab": {
     "base_uri": "https://localhost:8080/"
    },
    "id": "d04DPhdBQVJX",
    "outputId": "4416aa57-fadf-4447-a8c2-d728b63c5d93"
   },
   "outputs": [
    {
     "name": "stdout",
     "output_type": "stream",
     "text": [
      "Epoch 1/5\n",
      "469/469 [==============================] - 5s 9ms/step - loss: 0.7541 - accuracy: 0.7436\n",
      "Epoch 2/5\n",
      "469/469 [==============================] - 4s 9ms/step - loss: 0.3941 - accuracy: 0.8568\n",
      "Epoch 3/5\n",
      "469/469 [==============================] - 4s 9ms/step - loss: 0.3414 - accuracy: 0.8760\n",
      "Epoch 4/5\n",
      "469/469 [==============================] - 4s 9ms/step - loss: 0.3136 - accuracy: 0.8829\n",
      "Epoch 5/5\n",
      "469/469 [==============================] - 4s 9ms/step - loss: 0.2958 - accuracy: 0.8895\n"
     ]
    },
    {
     "data": {
      "text/plain": [
       "<tensorflow.python.keras.callbacks.History at 0x7f3dc038a1d0>"
      ]
     },
     "execution_count": 35,
     "metadata": {
      "tags": []
     },
     "output_type": "execute_result"
    }
   ],
   "source": [
    "#TRAIN THE MODEL\n",
    "network.fit(a_images, a_labels, epochs=5, batch_size=128)"
   ]
  },
  {
   "cell_type": "code",
   "execution_count": 38,
   "metadata": {
    "colab": {
     "base_uri": "https://localhost:8080/"
    },
    "id": "0WDDk2kEQoO3",
    "outputId": "1b41fb23-4bd4-4ccf-b5ce-2dbe3e359bea"
   },
   "outputs": [
    {
     "name": "stdout",
     "output_type": "stream",
     "text": [
      "313/313 [==============================] - 1s 2ms/step - loss: 0.3387 - accuracy: 0.8803\n",
      "Test Loss:  0.33870649337768555\n",
      "Test Accuracy: 0.880299985408783\n"
     ]
    }
   ],
   "source": [
    "#EVALUATE THE MODEL\n",
    "test_loss, test_acc = network.evaluate(b_images, b_labels)\n",
    "print(\"Test Loss: \", test_loss)\n",
    "print(\"Test Accuracy:\", test_acc )"
   ]
  }
 ],
 "metadata": {
  "colab": {
   "name": "Untitled0.ipynb",
   "provenance": []
  },
  "kernelspec": {
   "display_name": "Python 3",
   "language": "python",
   "name": "python3"
  },
  "language_info": {
   "codemirror_mode": {
    "name": "ipython",
    "version": 3
   },
   "file_extension": ".py",
   "mimetype": "text/x-python",
   "name": "python",
   "nbconvert_exporter": "python",
   "pygments_lexer": "ipython3",
   "version": "3.7.6"
  }
 },
 "nbformat": 4,
 "nbformat_minor": 1
}
